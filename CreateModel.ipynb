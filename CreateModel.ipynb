{
 "cells": [
  {
   "cell_type": "markdown",
   "metadata": {},
   "source": [
    "### **r/place 2023 Sentiment Analysis Model Creation**\n",
    "\n",
    "In this Jupyter notebook, I will perform transfer learning to improve a BERT model using a dataset of Reddit comments and their sentiment scores."
   ]
  },
  {
   "cell_type": "markdown",
   "metadata": {},
   "source": [
    "**Credits**<br>\n",
    "* Thank you to Professor Alvin Chen of the National Taiwan Normal University for his guide to performing transfer learning with BERT using IMDB movie reviews. The tutorial can be found at: https://alvinntnu.github.io/NTNU_ENC2045_LECTURES/temp/sentiment-analysis-using-bert-keras-movie-reviews.html"
   ]
  },
  {
   "cell_type": "markdown",
   "metadata": {},
   "source": [
    "**Importing Libraries**<br>\n",
    "To create the NLP model, I use various libraries such as tensorflow, nltk, pandas, etc."
   ]
  },
  {
   "cell_type": "code",
   "execution_count": 4,
   "metadata": {},
   "outputs": [],
   "source": [
    "import csv\n",
    "import numpy as np\n",
    "import pandas as pd\n",
    "import nltk\n",
    "import random\n",
    "import re\n",
    "import sklearn\n",
    "from sklearn.model_selection import train_test_split\n",
    "import tensorflow as tf\n",
    "import tensorflow.keras as keras\n",
    "import transformers\n",
    "import unicodedata\n",
    "\n",
    "from transformers import BertTokenizer, TFBertForSequenceClassification"
   ]
  },
  {
   "cell_type": "markdown",
   "metadata": {},
   "source": [
    "**Loading the Data**<br>\n",
    "The target CSV file has Reddit comments in Column 0 and a score in Column 1. The scores correspond to the following sentiments: -1 = negative, 0 = neutral, 1 = positive."
   ]
  },
  {
   "cell_type": "code",
   "execution_count": 17,
   "metadata": {},
   "outputs": [],
   "source": [
    "# define the data path and store the comments in a list\n",
    "data_path = \"data/Reddit_Data.csv\"\n",
    "comments = []\n",
    "\n",
    "# read the csv and store each comment with its respective score\n",
    "with open(data_path, \"r\", encoding=\"utf8\") as f:\n",
    "    csv_reader = csv.reader(f)\n",
    "    next(csv_reader)\n",
    "    for row in csv_reader:\n",
    "        comment, score = row\n",
    "        comments.append((comment, int(score)))\n",
    "\n",
    "# shuffle the data for variety\n",
    "random.shuffle(comments)"
   ]
  },
  {
   "cell_type": "markdown",
   "metadata": {},
   "source": [
    "**Splitting the Data**<br>\n",
    "I'll use a split ratio of 80:20 for this model. Feel free to tweak the ratio if you'd like!"
   ]
  },
  {
   "cell_type": "code",
   "execution_count": 18,
   "metadata": {},
   "outputs": [],
   "source": [
    "train_set, test_set = train_test_split(comments,\n",
    "                                       test_size=0.2,\n",
    "                                       random_state=24)"
   ]
  },
  {
   "cell_type": "markdown",
   "metadata": {},
   "source": [
    "**Extracting X and Y**<br>\n",
    "In this model, X = Reddit Comments, and Y = Score."
   ]
  },
  {
   "cell_type": "code",
   "execution_count": 22,
   "metadata": {},
   "outputs": [
    {
     "name": "stdout",
     "output_type": "stream",
     "text": [
      "('nice post however don think unfair minority appeasement has led directly the rise hindu fundamentalism but rather general hindu antagonism which tends lend itself well hindu fundamentalists for example there was post about how atrocious some aspects the rte act were about year ago remember like you mention actually discourages majority communities from running educational institutions and that for testimony sorts the genuine problem minority appeasement india does exist and ignore narrow minded stuff like that can really make the majority feel inferior and disadvantaged and that obviously will lead disenchantment and even discord that think where hindu antagonism ends hindu fundamentalism begins think when that opposition deliberate disadvantage twisted into generalized opposition the recipients the unfair advantage separate community whether nor they are adamant retaining that unfair advantage hindu fundamentalism and hindu extremists are reactionary they have played that reactionary role for long time mobilizing mass opposition specific thing into mass opposition the recipients that thing even when its usually disconnected and vote hungry political class that created that thing and its subsequent strife the first place like you said sometimes you may not deserve advantage accorded you over poor brahmin boy and sure many many many people share that opinion across all minority religions the problem always starts and ends with gross generalizations matter which side you just two cents ', 1)\n"
     ]
    }
   ],
   "source": [
    "# fill in the comments and scores of the training set\n",
    "x_train = []; y_train = []\n",
    "for comment, score in train_set:\n",
    "    x_train.append(comment)\n",
    "    y_train.append(score)\n",
    "\n",
    "# fill in the comments and scores of the testing set\n",
    "x_test = []; y_test = []\n",
    "for comment, score in test_set:\n",
    "    x_test.append(comment)\n",
    "    y_test.append(score)"
   ]
  },
  {
   "cell_type": "markdown",
   "metadata": {},
   "source": [
    "**Preparing Data (for the BERT Model)**<br>\n",
    "Now that we have extracted the training and testing data, we can move onto converting the data so that the BERT model can take these inputs."
   ]
  },
  {
   "cell_type": "code",
   "execution_count": 23,
   "metadata": {},
   "outputs": [],
   "source": [
    "y_train = np.array(y_train)\n",
    "y_test = np.array(y_test)"
   ]
  },
  {
   "cell_type": "code",
   "execution_count": null,
   "metadata": {},
   "outputs": [],
   "source": [
    "def convert_example_to_feature(review):\n",
    "  return bert_tokenizer.encode_plus(review, \n",
    "                add_special_tokens = True,\n",
    "                max_length = 512,\n",
    "                padding='max_length',\n",
    "                truncation=True,\n",
    "                return_attention_mask = True,\n",
    "              )"
   ]
  }
 ],
 "metadata": {
  "kernelspec": {
   "display_name": "Python 3",
   "language": "python",
   "name": "python3"
  },
  "language_info": {
   "codemirror_mode": {
    "name": "ipython",
    "version": 3
   },
   "file_extension": ".py",
   "mimetype": "text/x-python",
   "name": "python",
   "nbconvert_exporter": "python",
   "pygments_lexer": "ipython3",
   "version": "3.11.2"
  },
  "orig_nbformat": 4
 },
 "nbformat": 4,
 "nbformat_minor": 2
}
