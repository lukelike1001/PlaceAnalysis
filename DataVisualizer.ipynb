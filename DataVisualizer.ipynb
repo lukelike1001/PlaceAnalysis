{
 "cells": [
  {
   "cell_type": "markdown",
   "metadata": {},
   "source": [
    "### **Visualizing Data from r/place**\n",
    "Here, I will be using matplotlib to visualize common words to preview whether the sentiment to r/place 2023 was generally negative, neutral, or positive."
   ]
  },
  {
   "cell_type": "code",
   "execution_count": 18,
   "metadata": {},
   "outputs": [],
   "source": [
    "import csv\n",
    "import matplotlib.pyplot as plt"
   ]
  },
  {
   "cell_type": "markdown",
   "metadata": {},
   "source": [
    "First, we will find the most common words on the top r/place 2023 comments."
   ]
  },
  {
   "cell_type": "code",
   "execution_count": 20,
   "metadata": {},
   "outputs": [
    {
     "name": "stdout",
     "output_type": "stream",
     "text": [
      "0 ['ÿ']\n",
      "1 ['þ']\n",
      "2 ['C']\n"
     ]
    },
    {
     "ename": "Error",
     "evalue": "line contains NUL",
     "output_type": "error",
     "traceback": [
      "\u001b[1;31m---------------------------------------------------------------------------\u001b[0m",
      "\u001b[1;31mError\u001b[0m                                     Traceback (most recent call last)",
      "\u001b[1;32mc:\\Users\\lukel\\OneDrive\\Desktop\\Github Projects\\PlaceAnalysis\\DataVisualizer.ipynb Cell 4\u001b[0m in \u001b[0;36m<cell line: 7>\u001b[1;34m()\u001b[0m\n\u001b[0;32m      <a href='vscode-notebook-cell:/c%3A/Users/lukel/OneDrive/Desktop/Github%20Projects/PlaceAnalysis/DataVisualizer.ipynb#X11sZmlsZQ%3D%3D?line=8'>9</a>\u001b[0m csv_reader \u001b[39m=\u001b[39m csv\u001b[39m.\u001b[39mreader(f)\n\u001b[0;32m     <a href='vscode-notebook-cell:/c%3A/Users/lukel/OneDrive/Desktop/Github%20Projects/PlaceAnalysis/DataVisualizer.ipynb#X11sZmlsZQ%3D%3D?line=9'>10</a>\u001b[0m i \u001b[39m=\u001b[39m \u001b[39m0\u001b[39m\n\u001b[1;32m---> <a href='vscode-notebook-cell:/c%3A/Users/lukel/OneDrive/Desktop/Github%20Projects/PlaceAnalysis/DataVisualizer.ipynb#X11sZmlsZQ%3D%3D?line=10'>11</a>\u001b[0m \u001b[39mfor\u001b[39;00m row \u001b[39min\u001b[39;00m csv_reader:\n\u001b[0;32m     <a href='vscode-notebook-cell:/c%3A/Users/lukel/OneDrive/Desktop/Github%20Projects/PlaceAnalysis/DataVisualizer.ipynb#X11sZmlsZQ%3D%3D?line=11'>12</a>\u001b[0m     \u001b[39mprint\u001b[39m(i, row)\n\u001b[0;32m     <a href='vscode-notebook-cell:/c%3A/Users/lukel/OneDrive/Desktop/Github%20Projects/PlaceAnalysis/DataVisualizer.ipynb#X11sZmlsZQ%3D%3D?line=12'>13</a>\u001b[0m     \u001b[39mfor\u001b[39;00m word \u001b[39min\u001b[39;00m row:\n",
      "\u001b[1;31mError\u001b[0m: line contains NUL"
     ]
    }
   ],
   "source": [
    "# store the word frequencies in a dict\n",
    "# key=word, value=frequency\n",
    "freqs = dict()\n",
    "\n",
    "# open the file storing reddit comments\n",
    "filepath = \"place_comments.csv\"\n",
    "with open(filepath, \"r\", encoding=\"utf16\") as f:\n",
    "    f = next(f)\n",
    "    csv_reader = csv.reader(f)\n",
    "    for row in csv_reader:\n",
    "        print(i, row)\n",
    "        for word in row:\n",
    "            if word not in freqs:\n",
    "                freqs[word] = 0\n",
    "            freqs[word] += 1"
   ]
  }
 ],
 "metadata": {
  "kernelspec": {
   "display_name": ".venv",
   "language": "python",
   "name": "python3"
  },
  "language_info": {
   "codemirror_mode": {
    "name": "ipython",
    "version": 3
   },
   "file_extension": ".py",
   "mimetype": "text/x-python",
   "name": "python",
   "nbconvert_exporter": "python",
   "pygments_lexer": "ipython3",
   "version": "3.9.6"
  },
  "orig_nbformat": 4
 },
 "nbformat": 4,
 "nbformat_minor": 2
}
