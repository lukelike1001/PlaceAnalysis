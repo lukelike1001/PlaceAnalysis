{
 "cells": [
  {
   "cell_type": "markdown",
   "metadata": {},
   "source": [
    "### **Visualizing Data from r/place**\n",
    "Here, I will be using matplotlib to visualize common words to preview whether the sentiment to r/place 2023 was generally negative, neutral, or positive."
   ]
  },
  {
   "cell_type": "code",
   "execution_count": 1,
   "metadata": {},
   "outputs": [
    {
     "name": "stderr",
     "output_type": "stream",
     "text": [
      "c:\\Users\\lukel\\OneDrive\\Desktop\\Github Projects\\PlaceAnalysis\\.venv\\lib\\site-packages\\numpy\\_distributor_init.py:30: UserWarning: loaded more than 1 DLL from .libs:\n",
      "c:\\Users\\lukel\\OneDrive\\Desktop\\Github Projects\\PlaceAnalysis\\.venv\\lib\\site-packages\\numpy\\.libs\\libopenblas64__v0.3.21-gcc_10_3_0.dll\n",
      "c:\\Users\\lukel\\OneDrive\\Desktop\\Github Projects\\PlaceAnalysis\\.venv\\lib\\site-packages\\numpy\\.libs\\libopenblas64__v0.3.23-gcc_10_3_0.dll\n",
      "  warnings.warn(\"loaded more than 1 DLL from .libs:\"\n"
     ]
    }
   ],
   "source": [
    "import csv\n",
    "import matplotlib.pyplot as plt"
   ]
  },
  {
   "cell_type": "markdown",
   "metadata": {},
   "source": [
    "First, we will find the most common words on the top r/place 2023 comments."
   ]
  },
  {
   "cell_type": "code",
   "execution_count": 13,
   "metadata": {},
   "outputs": [],
   "source": [
    "# store the word frequencies in a dict\n",
    "# key=word, value=frequency\n",
    "freqs = dict()\n",
    "\n",
    "# open the file storing reddit comments\n",
    "# specify utf-8 encoding to prevent unicode decode error\n",
    "filepath = \"place_comments.csv\"\n",
    "with open(filepath, \"r\", encoding=\"utf-8\") as f:\n",
    "    skip = next(f)\n",
    "    csv_reader = csv.reader(f)\n",
    "    for row in csv_reader:\n",
    "        for word in row:\n",
    "            if word not in freqs:\n",
    "                freqs[word] = 0\n",
    "            freqs[word] += 1"
   ]
  }
 ],
 "metadata": {
  "kernelspec": {
   "display_name": ".venv",
   "language": "python",
   "name": "python3"
  },
  "language_info": {
   "codemirror_mode": {
    "name": "ipython",
    "version": 3
   },
   "file_extension": ".py",
   "mimetype": "text/x-python",
   "name": "python",
   "nbconvert_exporter": "python",
   "pygments_lexer": "ipython3",
   "version": "3.9.6"
  },
  "orig_nbformat": 4
 },
 "nbformat": 4,
 "nbformat_minor": 2
}
